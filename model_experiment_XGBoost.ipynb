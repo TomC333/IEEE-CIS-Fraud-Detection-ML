{
 "cells": [
  {
   "cell_type": "markdown",
   "metadata": {},
   "source": [
    "# Imports"
   ]
  },
  {
   "cell_type": "code",
   "execution_count": 1,
   "metadata": {
    "_cell_guid": "e421adea-d636-4166-b6f5-2e03fee95d43",
    "_uuid": "d8613066-6ce3-4e68-8c81-a62e6ef4b9c5",
    "collapsed": false,
    "jupyter": {
     "outputs_hidden": false
    }
   },
   "outputs": [
    {
     "name": "stdout",
     "output_type": "stream",
     "text": [
      "/Users/davitdadiani/Desktop/git/IEEE-CIS-Fraud-Detection-ML/input/test_transaction.csv\n",
      "/Users/davitdadiani/Desktop/git/IEEE-CIS-Fraud-Detection-ML/input/.DS_Store\n",
      "/Users/davitdadiani/Desktop/git/IEEE-CIS-Fraud-Detection-ML/input/train_identity.csv\n",
      "/Users/davitdadiani/Desktop/git/IEEE-CIS-Fraud-Detection-ML/input/test.csv\n",
      "/Users/davitdadiani/Desktop/git/IEEE-CIS-Fraud-Detection-ML/input/train.csv\n",
      "/Users/davitdadiani/Desktop/git/IEEE-CIS-Fraud-Detection-ML/input/test_identity.csv\n",
      "/Users/davitdadiani/Desktop/git/IEEE-CIS-Fraud-Detection-ML/input/transformed_test_df_LogisticRegression.csv\n",
      "/Users/davitdadiani/Desktop/git/IEEE-CIS-Fraud-Detection-ML/input/sample_submission.csv\n",
      "/Users/davitdadiani/Desktop/git/IEEE-CIS-Fraud-Detection-ML/input/train_transaction.csv\n"
     ]
    }
   ],
   "source": [
    "import os \n",
    "\n",
    "import dagshub\n",
    "import mlflow\n",
    "import joblib\n",
    "\n",
    "from mlflow.models.signature import infer_signature\n",
    "from tqdm import tqdm\n",
    "\n",
    "import pandas as pd\n",
    "import numpy as np\n",
    "\n",
    "import matplotlib.pyplot as plt\n",
    "import seaborn as sns\n",
    "\n",
    "from sklearn.metrics import roc_auc_score, accuracy_score, precision_score, recall_score, f1_score\n",
    "from sklearn.feature_selection import VarianceThreshold\n",
    "from sklearn.model_selection import train_test_split\n",
    "from sklearn.linear_model import LogisticRegression\n",
    "from sklearn.preprocessing import LabelEncoder\n",
    "from sklearn.compose import ColumnTransformer\n",
    "from sklearn.impute import SimpleImputer\n",
    "from sklearn.pipeline import Pipeline\n",
    "\n",
    "# Set some options...\n",
    "pd.set_option('display.max_columns', None)\n",
    "pd.set_option('display.max_rows', None)\n",
    "pd.set_option('display.max_colwidth', None)\n",
    "\n",
    "cwd = os.getcwd()\n",
    "\n",
    "for dirname, _, filenames in os.walk(f'{cwd}/input'):\n",
    "  for filename in filenames:\n",
    "    print(os.path.join(dirname, filename))\n",
    "\n",
    "train_df = pd.read_csv(f'{cwd}/input/train.csv')\n",
    "test_df = pd.read_csv(f'{cwd}/input/test.csv')"
   ]
  },
  {
   "cell_type": "code",
   "execution_count": 2,
   "metadata": {},
   "outputs": [
    {
     "data": {
      "text/html": [
       "<pre style=\"white-space:pre;overflow-x:auto;line-height:normal;font-family:Menlo,'DejaVu Sans Mono',consolas,'Courier New',monospace\">Accessing as TomC333\n",
       "</pre>\n"
      ],
      "text/plain": [
       "Accessing as TomC333\n"
      ]
     },
     "metadata": {},
     "output_type": "display_data"
    },
    {
     "data": {
      "text/html": [
       "<pre style=\"white-space:pre;overflow-x:auto;line-height:normal;font-family:Menlo,'DejaVu Sans Mono',consolas,'Courier New',monospace\">Initialized MLflow to track repo <span style=\"color: #008000; text-decoration-color: #008000\">\"TomC333/IEEE-CIS-Fraud-Detection-ML\"</span>\n",
       "</pre>\n"
      ],
      "text/plain": [
       "Initialized MLflow to track repo \u001b[32m\"TomC333/IEEE-CIS-Fraud-Detection-ML\"\u001b[0m\n"
      ]
     },
     "metadata": {},
     "output_type": "display_data"
    },
    {
     "data": {
      "text/html": [
       "<pre style=\"white-space:pre;overflow-x:auto;line-height:normal;font-family:Menlo,'DejaVu Sans Mono',consolas,'Courier New',monospace\">Repository TomC333/IEEE-CIS-Fraud-Detection-ML initialized!\n",
       "</pre>\n"
      ],
      "text/plain": [
       "Repository TomC333/IEEE-CIS-Fraud-Detection-ML initialized!\n"
      ]
     },
     "metadata": {},
     "output_type": "display_data"
    }
   ],
   "source": [
    "dagshub.init(repo_owner='TomC333', repo_name='IEEE-CIS-Fraud-Detection-ML', mlflow=True)"
   ]
  },
  {
   "cell_type": "markdown",
   "metadata": {},
   "source": [
    "# Cleaning"
   ]
  },
  {
   "cell_type": "code",
   "execution_count": 3,
   "metadata": {},
   "outputs": [
    {
     "name": "stdout",
     "output_type": "stream",
     "text": [
      "🏃 View run XGBoost_Cleaning at: https://dagshub.com/TomC333/IEEE-CIS-Fraud-Detection-ML.mlflow/#/experiments/0/runs/17a89d369631477e83b569f5e2564fda\n",
      "🧪 View experiment at: https://dagshub.com/TomC333/IEEE-CIS-Fraud-Detection-ML.mlflow/#/experiments/0\n"
     ]
    }
   ],
   "source": [
    "with mlflow.start_run(run_name=\"XGBoost_Cleaning\"):\n",
    "    nunique = train_df.nunique()\n",
    "    constant_cols = nunique[nunique <= 1].index.tolist()\n",
    "    train_df.drop(columns=constant_cols, inplace=True)\n",
    "    test_df.drop(columns=constant_cols, inplace=True)\n",
    "\n",
    "    mlflow.log_metric(\"const_cols_dropped\", len(constant_cols))"
   ]
  },
  {
   "cell_type": "markdown",
   "metadata": {},
   "source": [
    "# Feature Engineering"
   ]
  },
  {
   "cell_type": "code",
   "execution_count": 4,
   "metadata": {},
   "outputs": [
    {
     "name": "stdout",
     "output_type": "stream",
     "text": [
      "🏃 View run XGBoost_Feature_Engineering at: https://dagshub.com/TomC333/IEEE-CIS-Fraud-Detection-ML.mlflow/#/experiments/0/runs/17bcb5593caf476ca4fd7c3d2d9267fc\n",
      "🧪 View experiment at: https://dagshub.com/TomC333/IEEE-CIS-Fraud-Detection-ML.mlflow/#/experiments/0\n"
     ]
    }
   ],
   "source": [
    "with mlflow.start_run(run_name=\"XGBoost_Feature_Engineering\"):\n",
    "    dropped_columns = []\n",
    "    for col in train_df.columns:\n",
    "        if col not in test_df.columns and col != 'isFraud':\n",
    "            dropped_columns.append(col)\n",
    "            train_df.drop(columns=[col], inplace=True)\n",
    "\n",
    "    for col in test_df.columns:\n",
    "        if col not in train_df.columns:\n",
    "            dropped_columns.append(col)\n",
    "            test_df.drop(columns=[col], inplace=True)\n",
    "\n",
    "    mlflow.log_param(\"columns_dropped\", dropped_columns)\n",
    "\n",
    "    cat_cols = train_df.select_dtypes(include='object').columns\n",
    "\n",
    "    for col in cat_cols:\n",
    "        le = LabelEncoder()\n",
    "        combined_values = pd.concat([\n",
    "            train_df[col].astype(str),\n",
    "            test_df[col].astype(str)\n",
    "        ]).unique()\n",
    "        le.fit(combined_values)\n",
    "\n",
    "        train_df[col] = le.transform(train_df[col].astype(str))\n",
    "        test_df[col] = le.transform(test_df[col].astype(str))\n",
    "\n",
    "        mlflow.log_param(f\"{col}_label_encoded\", True)\n",
    "\n",
    "    new_features_train = pd.DataFrame()\n",
    "    new_features_test = pd.DataFrame()\n",
    "\n",
    "    new_features_train['Transaction_hour'] = (train_df['TransactionDT'] / 3600).astype(int) % 24\n",
    "    new_features_test['Transaction_hour'] = (test_df['TransactionDT'] / 3600).astype(int) % 24\n",
    "\n",
    "    new_features_train['Transaction_dayofweek'] = ((train_df['TransactionDT'] / 86400).astype(int)) % 7\n",
    "    new_features_test['Transaction_dayofweek'] = ((test_df['TransactionDT'] / 86400).astype(int)) % 7\n",
    "\n",
    "    new_features_train['Log_TransactionAmt'] = np.log1p(train_df['TransactionAmt'])\n",
    "    new_features_test['Log_TransactionAmt'] = np.log1p(test_df['TransactionAmt'])\n",
    "\n",
    "    for col in ['card1', 'card2', 'addr1', 'addr2']:\n",
    "        if col in train_df.columns:\n",
    "            train_count = train_df[col].value_counts()\n",
    "            test_count = test_df[col].value_counts()\n",
    "            new_features_train[f'{col}_count'] = train_df[col].map(train_count)\n",
    "            new_features_test[f'{col}_count'] = test_df[col].map(test_count)\n",
    "\n",
    "    train_df = pd.concat([train_df, new_features_train], axis=1)\n",
    "    test_df = pd.concat([test_df, new_features_test], axis=1)\n",
    "\n",
    "    additional_features = list(new_features_train.columns)\n",
    "    mlflow.log_param(\"created_features\", additional_features)"
   ]
  },
  {
   "cell_type": "markdown",
   "metadata": {},
   "source": [
    "# Feature Selection"
   ]
  },
  {
   "cell_type": "code",
   "execution_count": 10,
   "metadata": {},
   "outputs": [
    {
     "name": "stdout",
     "output_type": "stream",
     "text": [
      "🏃 View run XGBoost_Feature_Selection at: https://dagshub.com/TomC333/IEEE-CIS-Fraud-Detection-ML.mlflow/#/experiments/0/runs/02609b18e6884d5d867946ca5066948c\n",
      "🧪 View experiment at: https://dagshub.com/TomC333/IEEE-CIS-Fraud-Detection-ML.mlflow/#/experiments/0\n"
     ]
    }
   ],
   "source": [
    "import xgboost as xgb\n",
    "\n",
    "from sklearn.preprocessing import RobustScaler\n",
    "from sklearn.feature_selection import SelectFromModel\n",
    "\n",
    "\n",
    "with mlflow.start_run(run_name=\"XGBoost_Feature_Selection\"):\n",
    "    X = train_df.drop(columns=['TransactionID', 'isFraud'])\n",
    "    y = train_df['isFraud']\n",
    "\n",
    "    X_test = test_df.drop(columns=['TransactionID'])\n",
    "\n",
    "    scaler = RobustScaler()\n",
    "    X_scaled = scaler.fit_transform(X)\n",
    "    X_test_scaled = scaler.transform(X_test)\n",
    "\n",
    "    mlflow.log_param(\"scaler\", \"RobustScaler\")\n",
    "\n",
    "    xgb_selector = xgb.XGBClassifier(n_estimators=100, max_depth=5, learning_rate=0.1, random_state=42, n_jobs=-1)\n",
    "    xgb_selector.fit(X_scaled, y)\n",
    "\n",
    "    selection = SelectFromModel(xgb_selector, threshold=\"median\", prefit=True)\n",
    "    X_selected = selection.transform(X_scaled)\n",
    "    X_test_selected = selection.transform(X_test_scaled)\n",
    "\n",
    "    mlflow.log_param(\"features_after_selection\", X_selected.shape[1])\n",
    "\n",
    "    transformed_test_df = pd.DataFrame(X_test_selected)\n",
    "    transformed_test_df['TransactionID'] = test_df['TransactionID']\n",
    "    transformed_test_df.to_csv(f'{cwd}/input/transformed_test_df_XGBoost.csv', index=False)"
   ]
  },
  {
   "cell_type": "markdown",
   "metadata": {},
   "source": [
    "# Optimization & Model Training"
   ]
  },
  {
   "cell_type": "code",
   "execution_count": 14,
   "metadata": {},
   "outputs": [
    {
     "name": "stderr",
     "output_type": "stream",
     "text": [
      "[I 2025-04-27 15:04:07,511] A new study created in memory with name: no-name-a85acf6c-463a-46ce-8288-9432806e667b\n",
      "[I 2025-04-27 15:04:13,788] Trial 0 finished with value: 0.9562061409674016 and parameters: {'n_estimators': 448, 'max_depth': 4, 'learning_rate': 0.20989765731395552, 'subsample': 0.5506898469643743, 'colsample_bytree': 0.8133545450179274, 'gamma': 4.891862349076971, 'reg_alpha': 0.5704796768415071, 'reg_lambda': 4.269164315116835}. Best is trial 0 with value: 0.9562061409674016.\n",
      "[I 2025-04-27 15:04:19,107] Trial 1 finished with value: 0.971426243824122 and parameters: {'n_estimators': 297, 'max_depth': 5, 'learning_rate': 0.2973212071853808, 'subsample': 0.6670893392354104, 'colsample_bytree': 0.5346874919778014, 'gamma': 0.068087265542493, 'reg_alpha': 4.385667486720849, 'reg_lambda': 1.687017988438924}. Best is trial 1 with value: 0.971426243824122.\n",
      "[I 2025-04-27 15:04:30,096] Trial 2 finished with value: 0.9742013369888054 and parameters: {'n_estimators': 823, 'max_depth': 4, 'learning_rate': 0.21328761328409723, 'subsample': 0.5140512756008377, 'colsample_bytree': 0.6562748921745176, 'gamma': 1.6310098252787775, 'reg_alpha': 0.09056928077134929, 'reg_lambda': 2.8744354178444205}. Best is trial 2 with value: 0.9742013369888054.\n",
      "[I 2025-04-27 15:04:37,088] Trial 3 finished with value: 0.9763594269123392 and parameters: {'n_estimators': 449, 'max_depth': 5, 'learning_rate': 0.24306596072543926, 'subsample': 0.8532946516391449, 'colsample_bytree': 0.7495031272360041, 'gamma': 1.7032355196026228, 'reg_alpha': 3.5993442393033552, 'reg_lambda': 3.7647225628421754}. Best is trial 3 with value: 0.9763594269123392.\n",
      "[I 2025-04-27 15:04:40,820] Trial 4 finished with value: 0.9149153338454633 and parameters: {'n_estimators': 223, 'max_depth': 4, 'learning_rate': 0.05904140750561216, 'subsample': 0.710741001581146, 'colsample_bytree': 0.9154904239388822, 'gamma': 2.609564347102097, 'reg_alpha': 1.5635849717704113, 'reg_lambda': 0.2820590564603581}. Best is trial 3 with value: 0.9763594269123392.\n",
      "[I 2025-04-27 15:04:51,833] Trial 5 finished with value: 0.9893264053245547 and parameters: {'n_estimators': 757, 'max_depth': 7, 'learning_rate': 0.16463700328732384, 'subsample': 0.7409349447900713, 'colsample_bytree': 0.8113133726294002, 'gamma': 2.449933279526966, 'reg_alpha': 0.5743462379809372, 'reg_lambda': 4.712785792212072}. Best is trial 5 with value: 0.9893264053245547.\n",
      "[I 2025-04-27 15:05:04,141] Trial 6 finished with value: 0.9543614515557379 and parameters: {'n_estimators': 819, 'max_depth': 5, 'learning_rate': 0.04771142436086586, 'subsample': 0.9761874006931068, 'colsample_bytree': 0.7635256010754032, 'gamma': 0.24575747367208356, 'reg_alpha': 2.181765425219073, 'reg_lambda': 2.208763653302962}. Best is trial 5 with value: 0.9893264053245547.\n",
      "[I 2025-04-27 15:05:29,722] Trial 7 finished with value: 0.9997813142314217 and parameters: {'n_estimators': 830, 'max_depth': 12, 'learning_rate': 0.25872333675656217, 'subsample': 0.5175182116552908, 'colsample_bytree': 0.7504603113620429, 'gamma': 0.5070640189880948, 'reg_alpha': 4.635350183072178, 'reg_lambda': 4.265013487222207}. Best is trial 7 with value: 0.9997813142314217.\n",
      "[I 2025-04-27 15:05:32,884] Trial 8 finished with value: 0.9792603530398014 and parameters: {'n_estimators': 105, 'max_depth': 12, 'learning_rate': 0.24622072732638775, 'subsample': 0.8740985549337894, 'colsample_bytree': 0.8559622049442928, 'gamma': 3.9272248747704888, 'reg_alpha': 2.652458242045197, 'reg_lambda': 4.3899798268609524}. Best is trial 7 with value: 0.9997813142314217.\n",
      "[I 2025-04-27 15:05:37,211] Trial 9 finished with value: 0.9525635509135544 and parameters: {'n_estimators': 192, 'max_depth': 6, 'learning_rate': 0.1177539459324451, 'subsample': 0.5181429378530702, 'colsample_bytree': 0.7435970517914205, 'gamma': 3.5145886701687363, 'reg_alpha': 4.485867221048209, 'reg_lambda': 2.764827421025249}. Best is trial 7 with value: 0.9997813142314217.\n",
      "[I 2025-04-27 15:05:57,462] Trial 10 finished with value: 0.999562211915368 and parameters: {'n_estimators': 996, 'max_depth': 12, 'learning_rate': 0.28338582079966984, 'subsample': 0.6184505060971139, 'colsample_bytree': 0.9753967301201771, 'gamma': 0.9833428203389816, 'reg_alpha': 3.3486966593739727, 'reg_lambda': 3.5143703632982097}. Best is trial 7 with value: 0.9997813142314217.\n",
      "[I 2025-04-27 15:06:18,650] Trial 11 finished with value: 0.999331422788785 and parameters: {'n_estimators': 973, 'max_depth': 12, 'learning_rate': 0.29777646251353623, 'subsample': 0.6072301559479161, 'colsample_bytree': 0.9776339958740001, 'gamma': 0.9415551018797208, 'reg_alpha': 4.997609394810981, 'reg_lambda': 3.4324350196064177}. Best is trial 7 with value: 0.9997813142314217.\n",
      "[I 2025-04-27 15:06:39,271] Trial 12 finished with value: 0.9989425352122258 and parameters: {'n_estimators': 959, 'max_depth': 10, 'learning_rate': 0.26388588730096496, 'subsample': 0.6195411562053434, 'colsample_bytree': 0.635634160146382, 'gamma': 1.0023761661601749, 'reg_alpha': 3.2421919697963855, 'reg_lambda': 4.953209398148429}. Best is trial 7 with value: 0.9997813142314217.\n",
      "[I 2025-04-27 15:06:59,570] Trial 13 finished with value: 0.9988208250079155 and parameters: {'n_estimators': 658, 'max_depth': 10, 'learning_rate': 0.1549894567307037, 'subsample': 0.6007329386299487, 'colsample_bytree': 0.9968873811427935, 'gamma': 0.9485439660483397, 'reg_alpha': 3.7629346779534503, 'reg_lambda': 3.585600618494193}. Best is trial 7 with value: 0.9997813142314217.\n",
      "[I 2025-04-27 15:07:13,794] Trial 14 finished with value: 0.9948934121891624 and parameters: {'n_estimators': 988, 'max_depth': 10, 'learning_rate': 0.19501202783393162, 'subsample': 0.6703978054568384, 'colsample_bytree': 0.5017247503238584, 'gamma': 1.7635828074729538, 'reg_alpha': 2.8205245624516992, 'reg_lambda': 1.6646362991101582}. Best is trial 7 with value: 0.9997813142314217.\n",
      "[I 2025-04-27 15:07:29,591] Trial 15 finished with value: 0.9993960275188335 and parameters: {'n_estimators': 635, 'max_depth': 9, 'learning_rate': 0.26471915195658013, 'subsample': 0.8059008250806062, 'colsample_bytree': 0.908389293792697, 'gamma': 0.539514362090415, 'reg_alpha': 4.057697364100136, 'reg_lambda': 3.853548498736521}. Best is trial 7 with value: 0.9997813142314217.\n",
      "[I 2025-04-27 15:07:46,003] Trial 16 finished with value: 0.990464143269295 and parameters: {'n_estimators': 871, 'max_depth': 12, 'learning_rate': 0.11312452085893335, 'subsample': 0.5718938449896972, 'colsample_bytree': 0.6692546034061213, 'gamma': 2.1585031793416247, 'reg_alpha': 4.769833064743521, 'reg_lambda': 3.228812214443931}. Best is trial 7 with value: 0.9997813142314217.\n",
      "[I 2025-04-27 15:07:56,965] Trial 17 finished with value: 0.9923976764402308 and parameters: {'n_estimators': 697, 'max_depth': 8, 'learning_rate': 0.29846081654683854, 'subsample': 0.5001517817858352, 'colsample_bytree': 0.5866867625035954, 'gamma': 3.01342528226623, 'reg_alpha': 1.9753269346297597, 'reg_lambda': 0.09084292340110389}. Best is trial 7 with value: 0.9997813142314217.\n",
      "[I 2025-04-27 15:08:10,419] Trial 18 finished with value: 0.998223131183787 and parameters: {'n_estimators': 530, 'max_depth': 11, 'learning_rate': 0.22688612114678366, 'subsample': 0.649513993687122, 'colsample_bytree': 0.9298829680062872, 'gamma': 1.2851573860073273, 'reg_alpha': 3.1416482043373275, 'reg_lambda': 4.160615498960873}. Best is trial 7 with value: 0.9997813142314217.\n",
      "[I 2025-04-27 15:08:45,803] Trial 19 finished with value: 0.9871809892719594 and parameters: {'n_estimators': 908, 'max_depth': 11, 'learning_rate': 0.016638143783439946, 'subsample': 0.5602862570681404, 'colsample_bytree': 0.698155187403324, 'gamma': 0.5591648368431118, 'reg_alpha': 3.9704687739035345, 'reg_lambda': 2.1025916136389515}. Best is trial 7 with value: 0.9997813142314217.\n",
      "[I 2025-04-27 15:09:06,827] Trial 20 finished with value: 0.9994260421635107 and parameters: {'n_estimators': 743, 'max_depth': 8, 'learning_rate': 0.172488265200645, 'subsample': 0.7048087094942138, 'colsample_bytree': 0.8497896752272798, 'gamma': 0.4612269463332346, 'reg_alpha': 3.3797588597446993, 'reg_lambda': 0.9986497730937938}. Best is trial 7 with value: 0.9997813142314217.\n",
      "[I 2025-04-27 15:09:27,959] Trial 21 finished with value: 0.9995844915579194 and parameters: {'n_estimators': 768, 'max_depth': 8, 'learning_rate': 0.18147770472753708, 'subsample': 0.709725134665563, 'colsample_bytree': 0.8602113261262982, 'gamma': 0.5114913224375486, 'reg_alpha': 3.2429013826350963, 'reg_lambda': 0.611974407894336}. Best is trial 7 with value: 0.9997813142314217.\n",
      "[I 2025-04-27 15:09:57,941] Trial 22 finished with value: 0.9999997404327505 and parameters: {'n_estimators': 852, 'max_depth': 11, 'learning_rate': 0.26710176106420797, 'subsample': 0.7821550183842321, 'colsample_bytree': 0.8636033894526057, 'gamma': 0.04860836099234378, 'reg_alpha': 2.9422743274178544, 'reg_lambda': 3.070393010406801}. Best is trial 22 with value: 0.9999997404327505.\n",
      "[I 2025-04-27 15:10:17,463] Trial 23 finished with value: 0.9998907944574855 and parameters: {'n_estimators': 598, 'max_depth': 9, 'learning_rate': 0.13194716808053145, 'subsample': 0.7844046273784135, 'colsample_bytree': 0.8704915812198306, 'gamma': 0.05880228813688709, 'reg_alpha': 1.5681842524559304, 'reg_lambda': 0.8951668946508635}. Best is trial 22 with value: 0.9999997404327505.\n",
      "[I 2025-04-27 15:10:40,552] Trial 24 finished with value: 0.999989833311756 and parameters: {'n_estimators': 574, 'max_depth': 11, 'learning_rate': 0.12089110884599691, 'subsample': 0.798352498869459, 'colsample_bytree': 0.7992093847824184, 'gamma': 0.2081811692079733, 'reg_alpha': 1.47000903026602, 'reg_lambda': 1.4567669729568917}. Best is trial 22 with value: 0.9999997404327505.\n",
      "[I 2025-04-27 15:10:59,329] Trial 25 finished with value: 0.9997457852370008 and parameters: {'n_estimators': 559, 'max_depth': 9, 'learning_rate': 0.12657104405505623, 'subsample': 0.8152639808355381, 'colsample_bytree': 0.81458588787963, 'gamma': 0.05144817253602223, 'reg_alpha': 1.394880614709124, 'reg_lambda': 1.0707644121292343}. Best is trial 22 with value: 0.9999997404327505.\n",
      "[I 2025-04-27 15:11:15,931] Trial 26 finished with value: 0.999561101759023 and parameters: {'n_estimators': 369, 'max_depth': 11, 'learning_rate': 0.09554620554893517, 'subsample': 0.7857047668370264, 'colsample_bytree': 0.9018100961293624, 'gamma': 0.06172458088259612, 'reg_alpha': 1.2051934106815778, 'reg_lambda': 1.4555179527354523}. Best is trial 22 with value: 0.9999997404327505.\n",
      "[I 2025-04-27 15:11:25,399] Trial 27 finished with value: 0.993616797698282 and parameters: {'n_estimators': 574, 'max_depth': 9, 'learning_rate': 0.14276997319736506, 'subsample': 0.913910284097201, 'colsample_bytree': 0.7794480295039139, 'gamma': 1.2940658985910807, 'reg_alpha': 2.1225249328370506, 'reg_lambda': 0.9007533085167417}. Best is trial 22 with value: 0.9999997404327505.\n",
      "[I 2025-04-27 15:11:37,412] Trial 28 finished with value: 0.9949866024366324 and parameters: {'n_estimators': 436, 'max_depth': 10, 'learning_rate': 0.08265133644549072, 'subsample': 0.85220022216431, 'colsample_bytree': 0.8777629255380263, 'gamma': 1.3417625635402055, 'reg_alpha': 1.094682621323504, 'reg_lambda': 2.2997544975686175}. Best is trial 22 with value: 0.9999997404327505.\n",
      "[I 2025-04-27 15:11:51,642] Trial 29 finished with value: 0.9994770141991203 and parameters: {'n_estimators': 484, 'max_depth': 11, 'learning_rate': 0.13573394864830224, 'subsample': 0.7650729823577722, 'colsample_bytree': 0.8190136681996164, 'gamma': 0.822625709000723, 'reg_alpha': 1.7827348228334738, 'reg_lambda': 1.3712136989806478}. Best is trial 22 with value: 0.9999997404327505.\n"
     ]
    },
    {
     "name": "stdout",
     "output_type": "stream",
     "text": [
      "XGBoost model saved to /Users/davitdadiani/Desktop/git/IEEE-CIS-Fraud-Detection-ML/models/xgboost_model.pkl\n",
      "🏃 View run XGBoost_Training at: https://dagshub.com/TomC333/IEEE-CIS-Fraud-Detection-ML.mlflow/#/experiments/0/runs/6e1bbd52166f44c98a4d340b51bc3a42\n",
      "🧪 View experiment at: https://dagshub.com/TomC333/IEEE-CIS-Fraud-Detection-ML.mlflow/#/experiments/0\n"
     ]
    }
   ],
   "source": [
    "import optuna\n",
    "\n",
    "def objective(trial):\n",
    "    params = {\n",
    "        \"n_estimators\": trial.suggest_int(\"n_estimators\", 100, 1000),\n",
    "        \"max_depth\": trial.suggest_int(\"max_depth\", 3, 12),\n",
    "        \"learning_rate\": trial.suggest_float(\"learning_rate\", 0.01, 0.3),\n",
    "        \"subsample\": trial.suggest_float(\"subsample\", 0.5, 1.0),\n",
    "        \"colsample_bytree\": trial.suggest_float(\"colsample_bytree\", 0.5, 1.0),\n",
    "        \"gamma\": trial.suggest_float(\"gamma\", 0, 5),\n",
    "        \"reg_alpha\": trial.suggest_float(\"reg_alpha\", 0, 5),\n",
    "        \"reg_lambda\": trial.suggest_float(\"reg_lambda\", 0, 5),\n",
    "        \"random_state\": 42,\n",
    "        \"n_jobs\": -1\n",
    "    }\n",
    "    \n",
    "    clf = xgb.XGBClassifier(**params)\n",
    "    clf.fit(X_selected, y)\n",
    "    preds = clf.predict_proba(X_selected)[:, 1]\n",
    "    auc = roc_auc_score(y, preds)\n",
    "    return auc\n",
    "\n",
    "study = optuna.create_study(direction=\"maximize\")\n",
    "study.optimize(objective, n_trials=30)\n",
    "\n",
    "best_params = study.best_params\n",
    "\n",
    "with mlflow.start_run(run_name=\"XGBoost_Training\"):\n",
    "    clf = xgb.XGBClassifier(**best_params, random_state=42, n_jobs=-1)\n",
    "    clf.fit(X_selected, y)\n",
    "\n",
    "    y_pred = clf.predict(X_selected)\n",
    "    y_prob = clf.predict_proba(X_selected)[:, 1]\n",
    "\n",
    "    acc = accuracy_score(y, y_pred)\n",
    "    auc = roc_auc_score(y, y_prob)\n",
    "    precision = precision_score(y, y_pred)\n",
    "    recall = recall_score(y, y_pred)\n",
    "    f1 = f1_score(y, y_pred)\n",
    "\n",
    "    mlflow.log_metric(\"train_accuracy\", acc)\n",
    "    mlflow.log_metric(\"train_auc\", auc)\n",
    "    mlflow.log_metric(\"train_precision\", precision)\n",
    "    mlflow.log_metric(\"train_recall\", recall)\n",
    "    mlflow.log_metric(\"train_f1_score\", f1)\n",
    "\n",
    "    mlflow.log_params(best_params)\n",
    "\n",
    "    model_path = f\"{cwd}/models/xgboost_model.pkl\"\n",
    "    joblib.dump(clf, model_path)\n",
    "    mlflow.log_artifact(model_path)\n",
    "\n",
    "    input_example = X_selected[:5]\n",
    "    signature = infer_signature(X_selected, y_pred)\n",
    "\n",
    "    mlflow.sklearn.log_model(\n",
    "        sk_model=clf,\n",
    "        artifact_path=\"XGBoost_model\",\n",
    "        signature=signature,\n",
    "        input_example=input_example\n",
    "    )\n",
    "\n",
    "    print(f\"XGBoost model saved to {model_path}\")"
   ]
  }
 ],
 "metadata": {
  "kaggle": {
   "accelerator": "none",
   "dataSources": [
    {
     "databundleVersionId": 868283,
     "isSourceIdPinned": false,
     "sourceId": 5407,
     "sourceType": "competition"
    },
    {
     "datasetId": 7108731,
     "sourceId": 11358459,
     "sourceType": "datasetVersion"
    }
   ],
   "dockerImageVersionId": 30918,
   "isGpuEnabled": false,
   "isInternetEnabled": true,
   "language": "python",
   "sourceType": "notebook"
  },
  "kernelspec": {
   "display_name": "Python 3 (ipykernel)",
   "language": "python",
   "name": "python3"
  },
  "language_info": {
   "codemirror_mode": {
    "name": "ipython",
    "version": 3
   },
   "file_extension": ".py",
   "mimetype": "text/x-python",
   "name": "python",
   "nbconvert_exporter": "python",
   "pygments_lexer": "ipython3",
   "version": "3.12.7"
  }
 },
 "nbformat": 4,
 "nbformat_minor": 4
}
