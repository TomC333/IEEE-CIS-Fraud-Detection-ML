{
 "cells": [
  {
   "cell_type": "markdown",
   "metadata": {},
   "source": [
    "# Imports"
   ]
  },
  {
   "cell_type": "code",
   "execution_count": 1,
   "metadata": {
    "_cell_guid": "e421adea-d636-4166-b6f5-2e03fee95d43",
    "_uuid": "d8613066-6ce3-4e68-8c81-a62e6ef4b9c5",
    "collapsed": false,
    "jupyter": {
     "outputs_hidden": false
    }
   },
   "outputs": [
    {
     "name": "stdout",
     "output_type": "stream",
     "text": [
      "/Users/davitdadiani/Desktop/git/IEEE-CIS-Fraud-Detection-ML/input/test_transaction.csv\n",
      "/Users/davitdadiani/Desktop/git/IEEE-CIS-Fraud-Detection-ML/input/.DS_Store\n",
      "/Users/davitdadiani/Desktop/git/IEEE-CIS-Fraud-Detection-ML/input/train_identity.csv\n",
      "/Users/davitdadiani/Desktop/git/IEEE-CIS-Fraud-Detection-ML/input/test.csv\n",
      "/Users/davitdadiani/Desktop/git/IEEE-CIS-Fraud-Detection-ML/input/train.csv\n",
      "/Users/davitdadiani/Desktop/git/IEEE-CIS-Fraud-Detection-ML/input/test_identity.csv\n",
      "/Users/davitdadiani/Desktop/git/IEEE-CIS-Fraud-Detection-ML/input/transformed_test_df_LogisticRegression.csv\n",
      "/Users/davitdadiani/Desktop/git/IEEE-CIS-Fraud-Detection-ML/input/sample_submission.csv\n",
      "/Users/davitdadiani/Desktop/git/IEEE-CIS-Fraud-Detection-ML/input/train_transaction.csv\n"
     ]
    }
   ],
   "source": [
    "import os \n",
    "\n",
    "import dagshub\n",
    "import mlflow\n",
    "import joblib\n",
    "\n",
    "from mlflow.models.signature import infer_signature\n",
    "from tqdm import tqdm\n",
    "\n",
    "import pandas as pd\n",
    "import numpy as np\n",
    "\n",
    "import matplotlib.pyplot as plt\n",
    "import seaborn as sns\n",
    "\n",
    "from sklearn.metrics import roc_auc_score, accuracy_score, precision_score, recall_score, f1_score\n",
    "from sklearn.feature_selection import VarianceThreshold\n",
    "from sklearn.model_selection import train_test_split\n",
    "from sklearn.linear_model import LogisticRegression\n",
    "from sklearn.preprocessing import LabelEncoder\n",
    "from sklearn.compose import ColumnTransformer\n",
    "from sklearn.impute import SimpleImputer\n",
    "from sklearn.pipeline import Pipeline\n",
    "\n",
    "# Set some options...\n",
    "pd.set_option('display.max_columns', None)\n",
    "pd.set_option('display.max_rows', None)\n",
    "pd.set_option('display.max_colwidth', None)\n",
    "\n",
    "cwd = os.getcwd()\n",
    "\n",
    "for dirname, _, filenames in os.walk(f'{cwd}/input'):\n",
    "  for filename in filenames:\n",
    "    print(os.path.join(dirname, filename))\n",
    "\n",
    "train_df = pd.read_csv(f'{cwd}/input/train.csv')\n",
    "test_df = pd.read_csv(f'{cwd}/input/test.csv')"
   ]
  },
  {
   "cell_type": "code",
   "execution_count": 2,
   "metadata": {},
   "outputs": [
    {
     "data": {
      "text/html": [
       "<pre style=\"white-space:pre;overflow-x:auto;line-height:normal;font-family:Menlo,'DejaVu Sans Mono',consolas,'Courier New',monospace\">Accessing as TomC333\n",
       "</pre>\n"
      ],
      "text/plain": [
       "Accessing as TomC333\n"
      ]
     },
     "metadata": {},
     "output_type": "display_data"
    },
    {
     "data": {
      "text/html": [
       "<pre style=\"white-space:pre;overflow-x:auto;line-height:normal;font-family:Menlo,'DejaVu Sans Mono',consolas,'Courier New',monospace\">Initialized MLflow to track repo <span style=\"color: #008000; text-decoration-color: #008000\">\"TomC333/IEEE-CIS-Fraud-Detection-ML\"</span>\n",
       "</pre>\n"
      ],
      "text/plain": [
       "Initialized MLflow to track repo \u001b[32m\"TomC333/IEEE-CIS-Fraud-Detection-ML\"\u001b[0m\n"
      ]
     },
     "metadata": {},
     "output_type": "display_data"
    },
    {
     "data": {
      "text/html": [
       "<pre style=\"white-space:pre;overflow-x:auto;line-height:normal;font-family:Menlo,'DejaVu Sans Mono',consolas,'Courier New',monospace\">Repository TomC333/IEEE-CIS-Fraud-Detection-ML initialized!\n",
       "</pre>\n"
      ],
      "text/plain": [
       "Repository TomC333/IEEE-CIS-Fraud-Detection-ML initialized!\n"
      ]
     },
     "metadata": {},
     "output_type": "display_data"
    }
   ],
   "source": [
    "dagshub.init(repo_owner='TomC333', repo_name='IEEE-CIS-Fraud-Detection-ML', mlflow=True)"
   ]
  },
  {
   "cell_type": "markdown",
   "metadata": {},
   "source": [
    "# Cleaning"
   ]
  },
  {
   "cell_type": "code",
   "execution_count": 3,
   "metadata": {},
   "outputs": [
    {
     "name": "stdout",
     "output_type": "stream",
     "text": [
      "🏃 View run LogisticRegression_Cleaning at: https://dagshub.com/TomC333/IEEE-CIS-Fraud-Detection-ML.mlflow/#/experiments/0/runs/a2c36967c0754da2a61c9fc9ecca4951\n",
      "🧪 View experiment at: https://dagshub.com/TomC333/IEEE-CIS-Fraud-Detection-ML.mlflow/#/experiments/0\n"
     ]
    }
   ],
   "source": [
    "with mlflow.start_run(run_name=\"LogisticRegression_Cleaning\"):\n",
    "    # remove constant cols\n",
    "    nunique = train_df.nunique()\n",
    "    constant_cols = nunique[nunique <= 1].index.tolist()\n",
    "    train_df.drop(columns=constant_cols, inplace=True)\n",
    "    \n",
    "    mlflow.log_metric(\"const_cols_dropped\", len(constant_cols))\n",
    "    \n",
    "    # fill NaNs with SimpleImputer (mean for numeric, most_frequent for categorical)\n",
    "    numeric_cols = train_df.select_dtypes(include='number').columns\n",
    "    cat_cols = train_df.select_dtypes(include='object').columns\n",
    "\n",
    "    num_imputer = SimpleImputer(strategy='mean')  \n",
    "    cat_imputer = SimpleImputer(strategy='most_frequent') \n",
    "\n",
    "    train_df[numeric_cols] = num_imputer.fit_transform(train_df[numeric_cols])  \n",
    "    train_df[cat_cols] = cat_imputer.fit_transform(train_df[cat_cols])  \n",
    "    \n",
    "    mlflow.log_metric(\"num_features_filled\", len(numeric_cols))\n",
    "    mlflow.log_metric(\"cat_features_filled\", len(cat_cols))  \n",
    "\n",
    "    mlflow.log_param(\"num_imputer\", \"mean\") \n",
    "    mlflow.log_param(\"cat_imputer\", \"most_frequent\")\n",
    "\n",
    "    \n",
    "    # do the same for test dataframe\n",
    "    numeric_cols = test_df.select_dtypes(include='number').columns\n",
    "    cat_cols = test_df.select_dtypes(include='object').columns\n",
    "\n",
    "    test_df.drop(columns=constant_cols, inplace=True)\n",
    "    test_df[numeric_cols] = num_imputer.fit_transform(test_df[numeric_cols])\n",
    "    test_df[cat_cols] = cat_imputer.fit_transform(test_df[cat_cols])  "
   ]
  },
  {
   "cell_type": "markdown",
   "metadata": {},
   "source": [
    "# Feature Engineering"
   ]
  },
  {
   "cell_type": "code",
   "execution_count": 4,
   "metadata": {},
   "outputs": [
    {
     "name": "stdout",
     "output_type": "stream",
     "text": [
      "🏃 View run LogisticRegression_Feature_Engineering at: https://dagshub.com/TomC333/IEEE-CIS-Fraud-Detection-ML.mlflow/#/experiments/0/runs/ce26c8ac657947329064ff549d3723af\n",
      "🧪 View experiment at: https://dagshub.com/TomC333/IEEE-CIS-Fraud-Detection-ML.mlflow/#/experiments/0\n"
     ]
    }
   ],
   "source": [
    "with mlflow.start_run(run_name=\"LogisticRegression_Feature_Engineering\"):\n",
    "    # Drop columns from train_df that are not in test_df, we can't use them for prediction :D\n",
    "    dropped_columns = []\n",
    "    for col in train_df.columns:\n",
    "        if col not in test_df.columns and col != 'isFraud':  # avoid dropping 'isFraud' from train_df\n",
    "            dropped_columns.append(col)\n",
    "            train_df.drop(columns=[col], inplace=True)\n",
    "\n",
    "    mlflow.log_param(\"train_dropped_columns\", dropped_columns)\n",
    "\n",
    "    # Drop columns from test_df that are not in train_df\n",
    "    dropped_columns = []\n",
    "    for col in test_df.columns:\n",
    "        if col not in train_df.columns: \n",
    "            dropped_columns.append(col)\n",
    "            test_df.drop(columns=[col], inplace=True)\n",
    "\n",
    "    mlflow.log_param(\"test_dropped_columns\", dropped_columns)\n",
    "\n",
    "    cat_cols = train_df.select_dtypes(include='object').columns\n",
    "\n",
    "    # for each categorical column, fit on combined train+test data to capture all categories\n",
    "    for col in cat_cols:\n",
    "        le = LabelEncoder()\n",
    "\n",
    "        # combine train and test to capture all unique categories\n",
    "        combined_values = pd.concat([\n",
    "            train_df[col].astype(str),\n",
    "            test_df[col].astype(str)\n",
    "        ]).unique()\n",
    "\n",
    "        le.fit(combined_values)\n",
    "\n",
    "        # Transform original train and test columns\n",
    "        train_df[col] = le.transform(train_df[col].astype(str))\n",
    "        test_df[col] = le.transform(test_df[col].astype(str))\n",
    "\n",
    "        mlflow.log_param(f\"{col}_unique_values\", len(combined_values))\n",
    "        mlflow.log_param(f\"{col}_label_encoded\", True)\n",
    "        \n",
    "\n",
    "    # create some new features\n",
    "    new_features_train = pd.DataFrame()\n",
    "    new_features_test = pd.DataFrame()\n",
    "\n",
    "    new_features_train['Transaction_hour'] = (train_df['TransactionDT'] / 3600).astype(int) % 24\n",
    "    new_features_test['Transaction_hour'] = (test_df['TransactionDT'] / 3600).astype(int) % 24\n",
    "    \n",
    "    new_features_train['Transaction_dayofweek'] = ((train_df['TransactionDT'] / 86400).astype(int)) % 7\n",
    "    new_features_test['Transaction_dayofweek'] = ((test_df['TransactionDT'] / 86400).astype(int)) % 7\n",
    "\n",
    "    product_cd_count = train_df['ProductCD'].value_counts()\n",
    "    product_cd_count_t = test_df['ProductCD'].value_counts()\n",
    "    new_features_train['ProductCD_count'] = train_df['ProductCD'].map(product_cd_count)\n",
    "    new_features_test['ProductCD_count'] = test_df['ProductCD'].map(product_cd_count_t)\n",
    "    \n",
    "    train_df = pd.concat([train_df, new_features_train], axis=1)\n",
    "    test_df = pd.concat([test_df, new_features_test], axis=1)\n",
    "    \n",
    "    additional_features = ['Transaction_hour', 'Transaction_dayofweek', 'ProductCD_count']\n",
    "    \n",
    "    mlflow.log_param(\"created_features\", additional_features)\n",
    "    mlflow.log_param(\"feature_creation\", \"Log-transformed and Time-based features + Encoding strategies\")"
   ]
  },
  {
   "cell_type": "markdown",
   "metadata": {},
   "source": [
    "# Feature Selection"
   ]
  },
  {
   "cell_type": "code",
   "execution_count": 5,
   "metadata": {},
   "outputs": [
    {
     "name": "stdout",
     "output_type": "stream",
     "text": [
      "🏃 View run LogisticRegression_Feature_Selection at: https://dagshub.com/TomC333/IEEE-CIS-Fraud-Detection-ML.mlflow/#/experiments/0/runs/49e91f02fc1d41e5a14106f2653a591e\n",
      "🧪 View experiment at: https://dagshub.com/TomC333/IEEE-CIS-Fraud-Detection-ML.mlflow/#/experiments/0\n"
     ]
    }
   ],
   "source": [
    "with mlflow.start_run(run_name=\"LogisticRegression_Feature_Selection\"):\n",
    "    X = train_df.drop(columns=['TransactionID', 'isFraud'])\n",
    "    y = train_df['isFraud']\n",
    "    \n",
    "    # remove love variance features ( < 1% ), to avoid overfitting :D\n",
    "    sel = VarianceThreshold(threshold=0.01)\n",
    "    X_sel = sel.fit_transform(X)\n",
    "    mlflow.log_param(\"features_after_variance_threshold\", X_sel.shape[1]) \n",
    "\n",
    "    # apply the same to test dataframe\n",
    "    X_test = test_df.drop(columns=['TransactionID'])\n",
    "    X_test_sel = sel.transform(X_test)\n",
    "    mlflow.log_param(\"features_after_variance_threshold_test\", X_test_sel.shape[1])\n",
    "\n",
    "    transformed_test_df = pd.DataFrame(X_test_sel, columns=X.columns[sel.get_support()])\n",
    "    transformed_test_df['TransactionID'] = test_df['TransactionID']  # keep transaction id \n",
    "    transformed_test_df.to_csv(f'{cwd}/input/transformed_test_df_LogisticRegression.csv', index=False)"
   ]
  },
  {
   "cell_type": "markdown",
   "metadata": {},
   "source": [
    "# Model Training"
   ]
  },
  {
   "cell_type": "code",
   "execution_count": 6,
   "metadata": {},
   "outputs": [
    {
     "name": "stdout",
     "output_type": "stream",
     "text": [
      "Model saved to /Users/davitdadiani/Desktop/git/IEEE-CIS-Fraud-Detection-ML/models/logistic_regression.pkl\n",
      "🏃 View run LogisticRegression_Training at: https://dagshub.com/TomC333/IEEE-CIS-Fraud-Detection-ML.mlflow/#/experiments/0/runs/69a0abeee58c49829536bf32f95f4c7c\n",
      "🧪 View experiment at: https://dagshub.com/TomC333/IEEE-CIS-Fraud-Detection-ML.mlflow/#/experiments/0\n"
     ]
    }
   ],
   "source": [
    "with mlflow.start_run(run_name=\"LogisticRegression_Training\"):\n",
    "    clf = LogisticRegression(max_iter=1000, solver='liblinear', random_state=42)\n",
    "\n",
    "    clf.fit(X_sel, y)\n",
    "    \n",
    "    # Predict on training set (since you don’t have labels for test)\n",
    "    y_pred = clf.predict(X_sel)\n",
    "    y_prob = clf.predict_proba(X_sel)[:, 1]\n",
    "\n",
    "    acc = accuracy_score(y, y_pred)\n",
    "    auc = roc_auc_score(y, y_prob)\n",
    "    precision = precision_score(y, y_pred)\n",
    "    recall = recall_score(y, y_pred)\n",
    "    f1 = f1_score(y, y_pred)\n",
    "\n",
    "    mlflow.log_metric(\"train_accuracy\", acc)\n",
    "    mlflow.log_metric(\"train_auc\", auc)\n",
    "    mlflow.log_metric(\"train_precision\", precision)\n",
    "    mlflow.log_metric(\"train_recall\", recall)\n",
    "    mlflow.log_metric(\"train_f1_score\", f1)\n",
    "\n",
    "    mlflow.log_param(\"model_type\", \"LogisticRegression\")\n",
    "    mlflow.log_param(\"solver\", \"liblinear\")\n",
    "    mlflow.log_param(\"max_iter\", 1000)\n",
    "\n",
    "    model_path = f\"{cwd}/models/logistic_regression.pkl\"\n",
    "    joblib.dump(clf, model_path)\n",
    "    mlflow.log_artifact(model_path)\n",
    "\n",
    "    print(f\"Model saved to {model_path}\")\n",
    "    \n",
    "    input_example = X_sel[:5]\n",
    "    signature = infer_signature(X_sel, y_pred)\n",
    "\n",
    "    mlflow.sklearn.log_model(\n",
    "        sk_model=clf,\n",
    "        artifact_path=\"LogisticRegression_model\",\n",
    "        signature=signature,\n",
    "        input_example=input_example\n",
    "    )"
   ]
  }
 ],
 "metadata": {
  "kaggle": {
   "accelerator": "none",
   "dataSources": [
    {
     "databundleVersionId": 868283,
     "isSourceIdPinned": false,
     "sourceId": 5407,
     "sourceType": "competition"
    },
    {
     "datasetId": 7108731,
     "sourceId": 11358459,
     "sourceType": "datasetVersion"
    }
   ],
   "dockerImageVersionId": 30918,
   "isGpuEnabled": false,
   "isInternetEnabled": true,
   "language": "python",
   "sourceType": "notebook"
  },
  "kernelspec": {
   "display_name": "Python 3 (ipykernel)",
   "language": "python",
   "name": "python3"
  },
  "language_info": {
   "codemirror_mode": {
    "name": "ipython",
    "version": 3
   },
   "file_extension": ".py",
   "mimetype": "text/x-python",
   "name": "python",
   "nbconvert_exporter": "python",
   "pygments_lexer": "ipython3",
   "version": "3.12.7"
  }
 },
 "nbformat": 4,
 "nbformat_minor": 4
}
