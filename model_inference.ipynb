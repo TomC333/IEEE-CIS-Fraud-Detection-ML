{
 "cells": [
  {
   "cell_type": "code",
   "execution_count": 1,
   "metadata": {
    "vscode": {
     "languageId": "plaintext"
    }
   },
   "outputs": [
    {
     "name": "stdout",
     "output_type": "stream",
     "text": [
      "/Users/davitdadiani/Desktop/git/IEEE-CIS-Fraud-Detection-ML/input/test_transaction.csv\n",
      "/Users/davitdadiani/Desktop/git/IEEE-CIS-Fraud-Detection-ML/input/.DS_Store\n",
      "/Users/davitdadiani/Desktop/git/IEEE-CIS-Fraud-Detection-ML/input/train_identity.csv\n",
      "/Users/davitdadiani/Desktop/git/IEEE-CIS-Fraud-Detection-ML/input/test.csv\n",
      "/Users/davitdadiani/Desktop/git/IEEE-CIS-Fraud-Detection-ML/input/transformed_test_df_XGBoost.csv\n",
      "/Users/davitdadiani/Desktop/git/IEEE-CIS-Fraud-Detection-ML/input/transformed_test_df_RandomForest.csv\n",
      "/Users/davitdadiani/Desktop/git/IEEE-CIS-Fraud-Detection-ML/input/train.csv\n",
      "/Users/davitdadiani/Desktop/git/IEEE-CIS-Fraud-Detection-ML/input/test_identity.csv\n",
      "/Users/davitdadiani/Desktop/git/IEEE-CIS-Fraud-Detection-ML/input/transformed_test_df_LogisticRegression.csv\n",
      "/Users/davitdadiani/Desktop/git/IEEE-CIS-Fraud-Detection-ML/input/sample_submission.csv\n",
      "/Users/davitdadiani/Desktop/git/IEEE-CIS-Fraud-Detection-ML/input/train_transaction.csv\n"
     ]
    },
    {
     "data": {
      "text/html": [
       "<pre style=\"white-space:pre;overflow-x:auto;line-height:normal;font-family:Menlo,'DejaVu Sans Mono',consolas,'Courier New',monospace\">Accessing as TomC333\n",
       "</pre>\n"
      ],
      "text/plain": [
       "Accessing as TomC333\n"
      ]
     },
     "metadata": {},
     "output_type": "display_data"
    },
    {
     "data": {
      "text/html": [
       "<pre style=\"white-space:pre;overflow-x:auto;line-height:normal;font-family:Menlo,'DejaVu Sans Mono',consolas,'Courier New',monospace\">Initialized MLflow to track repo <span style=\"color: #008000; text-decoration-color: #008000\">\"TomC333/IEEE-CIS-Fraud-Detection-ML\"</span>\n",
       "</pre>\n"
      ],
      "text/plain": [
       "Initialized MLflow to track repo \u001b[32m\"TomC333/IEEE-CIS-Fraud-Detection-ML\"\u001b[0m\n"
      ]
     },
     "metadata": {},
     "output_type": "display_data"
    },
    {
     "data": {
      "text/html": [
       "<pre style=\"white-space:pre;overflow-x:auto;line-height:normal;font-family:Menlo,'DejaVu Sans Mono',consolas,'Courier New',monospace\">Repository TomC333/IEEE-CIS-Fraud-Detection-ML initialized!\n",
       "</pre>\n"
      ],
      "text/plain": [
       "Repository TomC333/IEEE-CIS-Fraud-Detection-ML initialized!\n"
      ]
     },
     "metadata": {},
     "output_type": "display_data"
    },
    {
     "data": {
      "application/vnd.jupyter.widget-view+json": {
       "model_id": "ecda31fbec6a424486c4353e6427b658",
       "version_major": 2,
       "version_minor": 0
      },
      "text/plain": [
       "Downloading artifacts:   0%|          | 0/7 [00:00<?, ?it/s]"
      ]
     },
     "metadata": {},
     "output_type": "display_data"
    }
   ],
   "source": [
    "import os \n",
    "\n",
    "import dagshub\n",
    "import mlflow\n",
    "\n",
    "import pandas as pd\n",
    "\n",
    "cwd = os.getcwd()\n",
    "\n",
    "for dirname, _, filenames in os.walk(f'{cwd}/input'):\n",
    "  for filename in filenames:\n",
    "    print(os.path.join(dirname, filename))\n",
    "\n",
    "test_df = pd.read_csv(f'{cwd}/input/transformed_test_df_XGBoost.csv')\n",
    "test_df = test_df.astype('float64')\n",
    "logged_model = 'runs:/6e1bbd52166f44c98a4d340b51bc3a42/XGBoost_model'\n",
    "\n",
    "dagshub.init(repo_owner='TomC333', repo_name='IEEE-CIS-Fraud-Detection-ML', mlflow=True)\n",
    "\n",
    "# Load model as a PyFuncModel.\n",
    "loaded_model = mlflow.pyfunc.load_model(logged_model)"
   ]
  },
  {
   "cell_type": "code",
   "execution_count": 2,
   "metadata": {
    "vscode": {
     "languageId": "plaintext"
    }
   },
   "outputs": [
    {
     "name": "stdout",
     "output_type": "stream",
     "text": [
      "Submission file saved at: /Users/davitdadiani/Desktop/git/IEEE-CIS-Fraud-Detection-ML/submission.csv\n"
     ]
    }
   ],
   "source": [
    "X_test = test_df.drop(columns=[\"TransactionID\"])\n",
    "predictions = loaded_model.predict(X_test)\n",
    "\n",
    "submission_df = pd.DataFrame({\n",
    "    \"TransactionID\": range(3663549, 3663549 + len(predictions)),\n",
    "    \"isFraud\": predictions\n",
    "})\n",
    "\n",
    "submission_df.to_csv(f'{cwd}/output/submission.csv', index=False)\n",
    "\n",
    "print(\"Submission file saved at:\", f'{cwd}/submission.csv')"
   ]
  },
  {
   "cell_type": "code",
   "execution_count": null,
   "metadata": {},
   "outputs": [],
   "source": []
  }
 ],
 "metadata": {
  "kernelspec": {
   "display_name": "Python 3 (ipykernel)",
   "language": "python",
   "name": "python3"
  },
  "language_info": {
   "codemirror_mode": {
    "name": "ipython",
    "version": 3
   },
   "file_extension": ".py",
   "mimetype": "text/x-python",
   "name": "python",
   "nbconvert_exporter": "python",
   "pygments_lexer": "ipython3",
   "version": "3.12.7"
  }
 },
 "nbformat": 4,
 "nbformat_minor": 4
}
