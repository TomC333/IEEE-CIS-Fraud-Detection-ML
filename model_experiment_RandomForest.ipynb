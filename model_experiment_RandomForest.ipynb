{
 "cells": [
  {
   "cell_type": "markdown",
   "metadata": {},
   "source": [
    "# Imports"
   ]
  },
  {
   "cell_type": "code",
   "execution_count": 9,
   "metadata": {
    "_cell_guid": "e421adea-d636-4166-b6f5-2e03fee95d43",
    "_uuid": "d8613066-6ce3-4e68-8c81-a62e6ef4b9c5",
    "collapsed": false,
    "jupyter": {
     "outputs_hidden": false
    }
   },
   "outputs": [
    {
     "name": "stdout",
     "output_type": "stream",
     "text": [
      "/Users/davitdadiani/Desktop/git/IEEE-CIS-Fraud-Detection-ML/input/test_transaction.csv\n",
      "/Users/davitdadiani/Desktop/git/IEEE-CIS-Fraud-Detection-ML/input/.DS_Store\n",
      "/Users/davitdadiani/Desktop/git/IEEE-CIS-Fraud-Detection-ML/input/train_identity.csv\n",
      "/Users/davitdadiani/Desktop/git/IEEE-CIS-Fraud-Detection-ML/input/test.csv\n",
      "/Users/davitdadiani/Desktop/git/IEEE-CIS-Fraud-Detection-ML/input/transformed_test_df_XGBoost.csv\n",
      "/Users/davitdadiani/Desktop/git/IEEE-CIS-Fraud-Detection-ML/input/train.csv\n",
      "/Users/davitdadiani/Desktop/git/IEEE-CIS-Fraud-Detection-ML/input/test_identity.csv\n",
      "/Users/davitdadiani/Desktop/git/IEEE-CIS-Fraud-Detection-ML/input/transformed_test_df_LogisticRegression.csv\n",
      "/Users/davitdadiani/Desktop/git/IEEE-CIS-Fraud-Detection-ML/input/sample_submission.csv\n",
      "/Users/davitdadiani/Desktop/git/IEEE-CIS-Fraud-Detection-ML/input/train_transaction.csv\n"
     ]
    }
   ],
   "source": [
    "import os\n",
    "\n",
    "import dagshub\n",
    "import mlflow\n",
    "import joblib\n",
    "\n",
    "from mlflow.models.signature import infer_signature\n",
    "from tqdm import tqdm\n",
    "\n",
    "import pandas as pd\n",
    "import numpy as np\n",
    "\n",
    "import matplotlib.pyplot as plt\n",
    "import seaborn as sns\n",
    "\n",
    "from sklearn.metrics import roc_auc_score, accuracy_score, precision_score, recall_score, f1_score\n",
    "from sklearn.model_selection import train_test_split, RandomizedSearchCV\n",
    "from sklearn.ensemble import RandomForestClassifier\n",
    "from sklearn.preprocessing import LabelEncoder\n",
    "from sklearn.impute import SimpleImputer\n",
    "from sklearn.pipeline import Pipeline\n",
    "\n",
    "# Set some options...\n",
    "pd.set_option('display.max_columns', None)\n",
    "pd.set_option('display.max_rows', None)\n",
    "pd.set_option('display.max_colwidth', None)\n",
    "\n",
    "cwd = os.getcwd()\n",
    "\n",
    "for dirname, _, filenames in os.walk(f'{cwd}/input'):\n",
    "  for filename in filenames:\n",
    "    print(os.path.join(dirname, filename))\n",
    "\n",
    "train_df = pd.read_csv(f'{cwd}/input/train.csv')\n",
    "test_df = pd.read_csv(f'{cwd}/input/test.csv')"
   ]
  },
  {
   "cell_type": "code",
   "execution_count": 2,
   "metadata": {},
   "outputs": [
    {
     "data": {
      "text/html": [
       "<pre style=\"white-space:pre;overflow-x:auto;line-height:normal;font-family:Menlo,'DejaVu Sans Mono',consolas,'Courier New',monospace\">Accessing as TomC333\n",
       "</pre>\n"
      ],
      "text/plain": [
       "Accessing as TomC333\n"
      ]
     },
     "metadata": {},
     "output_type": "display_data"
    },
    {
     "data": {
      "text/html": [
       "<pre style=\"white-space:pre;overflow-x:auto;line-height:normal;font-family:Menlo,'DejaVu Sans Mono',consolas,'Courier New',monospace\">Initialized MLflow to track repo <span style=\"color: #008000; text-decoration-color: #008000\">\"TomC333/IEEE-CIS-Fraud-Detection-ML\"</span>\n",
       "</pre>\n"
      ],
      "text/plain": [
       "Initialized MLflow to track repo \u001b[32m\"TomC333/IEEE-CIS-Fraud-Detection-ML\"\u001b[0m\n"
      ]
     },
     "metadata": {},
     "output_type": "display_data"
    },
    {
     "data": {
      "text/html": [
       "<pre style=\"white-space:pre;overflow-x:auto;line-height:normal;font-family:Menlo,'DejaVu Sans Mono',consolas,'Courier New',monospace\">Repository TomC333/IEEE-CIS-Fraud-Detection-ML initialized!\n",
       "</pre>\n"
      ],
      "text/plain": [
       "Repository TomC333/IEEE-CIS-Fraud-Detection-ML initialized!\n"
      ]
     },
     "metadata": {},
     "output_type": "display_data"
    }
   ],
   "source": [
    "dagshub.init(repo_owner='TomC333', repo_name='IEEE-CIS-Fraud-Detection-ML', mlflow=True)"
   ]
  },
  {
   "cell_type": "markdown",
   "metadata": {},
   "source": [
    "# Cleaning"
   ]
  },
  {
   "cell_type": "code",
   "execution_count": 10,
   "metadata": {},
   "outputs": [
    {
     "name": "stdout",
     "output_type": "stream",
     "text": [
      "🏃 View run RandomForest_Cleaning at: https://dagshub.com/TomC333/IEEE-CIS-Fraud-Detection-ML.mlflow/#/experiments/0/runs/9cdc8762b64246949cf7e4ef1b3b1fa4\n",
      "🧪 View experiment at: https://dagshub.com/TomC333/IEEE-CIS-Fraud-Detection-ML.mlflow/#/experiments/0\n"
     ]
    }
   ],
   "source": [
    "with mlflow.start_run(run_name=\"RandomForest_Cleaning\"):\n",
    "    nunique = train_df.nunique()\n",
    "    constant_cols = nunique[nunique <= 1].index.tolist()\n",
    "\n",
    "    train_df.drop(columns=constant_cols, inplace=True)\n",
    "    mlflow.log_metric(\"const_cols_dropped\", len(constant_cols))\n",
    "\n",
    "    target_col = 'isFraud'\n",
    "    feature_cols = [col for col in train_df.columns if col != target_col]\n",
    "    numeric_cols = train_df[feature_cols].select_dtypes(include='number').columns.tolist()\n",
    "    cat_cols = train_df[feature_cols].select_dtypes(include='object').columns.tolist()\n",
    "\n",
    "    num_imputer = SimpleImputer(strategy='median')\n",
    "    cat_imputer = SimpleImputer(strategy='constant', fill_value=\"Unknown\")\n",
    "\n",
    "    train_df[numeric_cols] = num_imputer.fit_transform(train_df[numeric_cols])\n",
    "    train_df[cat_cols] = cat_imputer.fit_transform(train_df[cat_cols])\n",
    "\n",
    "    mlflow.log_param(\"num_imputer\", \"median\")\n",
    "    mlflow.log_param(\"cat_imputer\", \"constant_unknown\")\n",
    "    mlflow.log_metric(\"num_features_filled\", len(numeric_cols))\n",
    "    mlflow.log_metric(\"cat_features_filled\", len(cat_cols))\n",
    "\n",
    "    # apply the same on test\n",
    "    test_df.columns = test_df.columns.str.replace('-', '_')  \n",
    "    test_df.drop(columns=[col for col in constant_cols if col in test_df.columns], inplace=True)\n",
    "\n",
    "    numeric_cols_test = [col for col in numeric_cols if col in test_df.columns]\n",
    "    cat_cols_test = [col for col in cat_cols if col in test_df.columns]\n",
    "\n",
    "    test_df[numeric_cols_test] = num_imputer.transform(test_df[numeric_cols_test])\n",
    "    test_df[cat_cols_test] = cat_imputer.transform(test_df[cat_cols_test])\n"
   ]
  },
  {
   "cell_type": "markdown",
   "metadata": {},
   "source": [
    "# Feature Engineering"
   ]
  },
  {
   "cell_type": "code",
   "execution_count": 11,
   "metadata": {},
   "outputs": [
    {
     "name": "stdout",
     "output_type": "stream",
     "text": [
      "🏃 View run RandomForest_Feature_Engineering at: https://dagshub.com/TomC333/IEEE-CIS-Fraud-Detection-ML.mlflow/#/experiments/0/runs/bcb6516f6e73443f92493dbe64554cdf\n",
      "🧪 View experiment at: https://dagshub.com/TomC333/IEEE-CIS-Fraud-Detection-ML.mlflow/#/experiments/0\n"
     ]
    }
   ],
   "source": [
    "with mlflow.start_run(run_name=\"RandomForest_Feature_Engineering\"):\n",
    "    dropped_train_columns = [col for col in train_df.columns if col not in test_df.columns and col != 'isFraud']\n",
    "    dropped_test_columns = [col for col in test_df.columns if col not in train_df.columns]\n",
    "\n",
    "    train_df.drop(columns=dropped_train_columns, inplace=True)\n",
    "    test_df.drop(columns=dropped_test_columns, inplace=True)\n",
    "\n",
    "    mlflow.log_param(\"train_dropped_columns\", dropped_train_columns)\n",
    "    mlflow.log_param(\"test_dropped_columns\", dropped_test_columns)\n",
    "\n",
    "    cat_cols = train_df.select_dtypes(include='object').columns\n",
    "\n",
    "    for col in cat_cols:\n",
    "        le = LabelEncoder()\n",
    "        combined_values = pd.concat([\n",
    "            train_df[col].astype(str),\n",
    "            test_df[col].astype(str)\n",
    "        ]).unique()\n",
    "\n",
    "        le.fit(combined_values)\n",
    "        train_df[col] = le.transform(train_df[col].astype(str))\n",
    "        test_df[col] = le.transform(test_df[col].astype(str))\n",
    "\n",
    "        mlflow.log_param(f\"{col}_label_encoded\", True)\n",
    "\n",
    "    new_features_train = pd.DataFrame()\n",
    "    new_features_test = pd.DataFrame()\n",
    "\n",
    "    new_features_train['Transaction_hour'] = (train_df['TransactionDT'] / 3600).astype(int) % 24\n",
    "    new_features_test['Transaction_hour'] = (test_df['TransactionDT'] / 3600).astype(int) % 24\n",
    "\n",
    "    new_features_train['Transaction_dayofweek'] = ((train_df['TransactionDT'] / 86400).astype(int)) % 7\n",
    "    new_features_test['Transaction_dayofweek'] = ((test_df['TransactionDT'] / 86400).astype(int)) % 7\n",
    "\n",
    "    new_features_train['TransactionAmt_log'] = np.log1p(train_df['TransactionAmt'])\n",
    "    new_features_test['TransactionAmt_log'] = np.log1p(test_df['TransactionAmt'])\n",
    "\n",
    "    new_features_train['card12'] = train_df['card1'].astype(str) + '_' + train_df['card2'].astype(str)\n",
    "    new_features_test['card12'] = test_df['card1'].astype(str) + '_' + test_df['card2'].astype(str)\n",
    "\n",
    "    card12_le = LabelEncoder()\n",
    "    combined_card12 = pd.concat([\n",
    "        new_features_train['card12'],\n",
    "        new_features_test['card12']\n",
    "    ]).astype(str).unique()\n",
    "    card12_le.fit(combined_card12)\n",
    "\n",
    "    new_features_train['card12'] = card12_le.transform(new_features_train['card12'].astype(str))\n",
    "    new_features_test['card12'] = card12_le.transform(new_features_test['card12'].astype(str))\n",
    "\n",
    "    train_df = pd.concat([train_df, new_features_train], axis=1)\n",
    "    test_df = pd.concat([test_df, new_features_test], axis=1)\n",
    "\n",
    "    created_features = ['Transaction_hour', 'Transaction_dayofweek', 'TransactionAmt_log', 'card12']\n",
    "    mlflow.log_param(\"created_features\", created_features)"
   ]
  },
  {
   "cell_type": "markdown",
   "metadata": {},
   "source": [
    "# Feature Selection"
   ]
  },
  {
   "cell_type": "code",
   "execution_count": 12,
   "metadata": {},
   "outputs": [
    {
     "name": "stdout",
     "output_type": "stream",
     "text": [
      "🏃 View run RandomForest_Feature_Selection at: https://dagshub.com/TomC333/IEEE-CIS-Fraud-Detection-ML.mlflow/#/experiments/0/runs/26bb2527d96f4c7d9a82997051a90907\n",
      "🧪 View experiment at: https://dagshub.com/TomC333/IEEE-CIS-Fraud-Detection-ML.mlflow/#/experiments/0\n"
     ]
    }
   ],
   "source": [
    "with mlflow.start_run(run_name=\"RandomForest_Feature_Selection\"):\n",
    "    X = train_df.drop(columns=['TransactionID', 'isFraud'])\n",
    "    y = train_df['isFraud']\n",
    "\n",
    "    X_test = test_df.drop(columns=['TransactionID'])\n",
    "\n",
    "    temp_clf = RandomForestClassifier(n_estimators=50, random_state=42, n_jobs=-1)\n",
    "    temp_clf.fit(X, y)\n",
    "\n",
    "    importances = pd.Series(temp_clf.feature_importances_, index=X.columns)\n",
    "    selected_features = importances[importances > np.percentile(importances, 30)].index.tolist()  # top 70% features\n",
    "\n",
    "    X_sel = X[selected_features]\n",
    "    X_test_sel = X_test[selected_features]\n",
    "\n",
    "    mlflow.log_param(\"features_selected\", selected_features)\n",
    "    transformed_test_df = X_test_sel.copy()\n",
    "    transformed_test_df['TransactionID'] = test_df['TransactionID']\n",
    "\n",
    "    transformed_test_df.to_csv(f'{cwd}/input/transformed_test_df_RandomForest.csv', index=False)"
   ]
  },
  {
   "cell_type": "markdown",
   "metadata": {},
   "source": [
    "# Optimization & Model Training"
   ]
  },
  {
   "cell_type": "code",
   "execution_count": null,
   "metadata": {},
   "outputs": [
    {
     "name": "stdout",
     "output_type": "stream",
     "text": [
      "Fitting 3 folds for each of 10 candidates, totalling 30 fits\n",
      "[CV 3/3] END max_depth=10, max_features=sqrt, min_samples_leaf=1, min_samples_split=2, n_estimators=100;, score=0.556 total time= 1.0min\n",
      "[CV 1/3] END max_depth=None, max_features=sqrt, min_samples_leaf=1, min_samples_split=2, n_estimators=300;, score=0.876 total time= 6.4min\n",
      "[CV 2/3] END max_depth=10, max_features=sqrt, min_samples_leaf=1, min_samples_split=2, n_estimators=100;, score=0.867 total time= 1.1min\n",
      "[CV 2/3] END max_depth=None, max_features=sqrt, min_samples_leaf=1, min_samples_split=2, n_estimators=300;, score=0.905 total time= 6.5min\n",
      "[CV 1/3] END max_depth=10, max_features=sqrt, min_samples_leaf=1, min_samples_split=2, n_estimators=100;, score=0.844 total time= 1.1min\n",
      "[CV 3/3] END max_depth=None, max_features=sqrt, min_samples_leaf=1, min_samples_split=2, n_estimators=300;, score=0.477 total time= 6.5min\n"
     ]
    }
   ],
   "source": [
    "with mlflow.start_run(run_name=\"RandomForest_Training\"):\n",
    "    clf = RandomForestClassifier(random_state=42, n_jobs=-1)\n",
    "\n",
    "    param_dist = {\n",
    "        'n_estimators': [100, 200, 300], \n",
    "        'max_depth': [10, 20, None], \n",
    "        'min_samples_split': [2, 5], \n",
    "        'min_samples_leaf': [1, 2], \n",
    "        'max_features': ['sqrt', 'log2']  \n",
    "    }\n",
    "\n",
    "    search = RandomizedSearchCV(\n",
    "        clf,\n",
    "        param_distributions=param_dist,\n",
    "        n_iter=10, \n",
    "        cv=3,  \n",
    "        scoring='roc_auc',\n",
    "        random_state=42,\n",
    "        n_jobs=-1,\n",
    "        verbose=3  \n",
    "    )\n",
    "    \n",
    "    search.fit(X_sel, y)  \n",
    "\n",
    "    best_clf = search.best_estimator_\n",
    "\n",
    "    mlflow.log_params(search.best_params_)\n",
    "\n",
    "    y_pred = best_clf.predict(X_sel)\n",
    "    y_prob = best_clf.predict_proba(X_sel)[:, 1]\n",
    "\n",
    "    acc = accuracy_score(y, y_pred)\n",
    "    auc = roc_auc_score(y, y_prob)\n",
    "    precision = precision_score(y, y_pred)\n",
    "    recall = recall_score(y, y_pred)\n",
    "    f1 = f1_score(y, y_pred)\n",
    "\n",
    "    mlflow.log_metric(\"train_accuracy\", acc)\n",
    "    mlflow.log_metric(\"train_auc\", auc)\n",
    "    mlflow.log_metric(\"train_precision\", precision)\n",
    "    mlflow.log_metric(\"train_recall\", recall)\n",
    "    mlflow.log_metric(\"train_f1_score\", f1)\n",
    "\n",
    "    mlflow.log_param(\"model_type\", \"RandomForestClassifier\")\n",
    "\n",
    "    model_path = f\"{cwd}/models/random_forest.pkl\"\n",
    "    joblib.dump(best_clf, model_path)\n",
    "    mlflow.log_artifact(model_path)\n",
    "\n",
    "    print(f\"Model saved to {model_path}\")\n",
    "\n",
    "    input_example = X_sel[:5]\n",
    "    signature = infer_signature(X_sel, y_pred)\n",
    "\n",
    "    mlflow.sklearn.log_model(\n",
    "        sk_model=best_clf,\n",
    "        artifact_path=\"RandomForest_model\",\n",
    "        signature=signature,\n",
    "        input_example=input_example\n",
    "    )\n"
   ]
  },
  {
   "cell_type": "code",
   "execution_count": null,
   "metadata": {},
   "outputs": [],
   "source": []
  }
 ],
 "metadata": {
  "kaggle": {
   "accelerator": "none",
   "dataSources": [
    {
     "databundleVersionId": 868283,
     "isSourceIdPinned": false,
     "sourceId": 5407,
     "sourceType": "competition"
    },
    {
     "datasetId": 7108731,
     "sourceId": 11358459,
     "sourceType": "datasetVersion"
    }
   ],
   "dockerImageVersionId": 30918,
   "isGpuEnabled": false,
   "isInternetEnabled": true,
   "language": "python",
   "sourceType": "notebook"
  },
  "kernelspec": {
   "display_name": "Python 3 (ipykernel)",
   "language": "python",
   "name": "python3"
  },
  "language_info": {
   "codemirror_mode": {
    "name": "ipython",
    "version": 3
   },
   "file_extension": ".py",
   "mimetype": "text/x-python",
   "name": "python",
   "nbconvert_exporter": "python",
   "pygments_lexer": "ipython3",
   "version": "3.12.7"
  }
 },
 "nbformat": 4,
 "nbformat_minor": 4
}
